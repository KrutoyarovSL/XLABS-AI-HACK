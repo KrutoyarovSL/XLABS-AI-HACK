{
  "cells": [
    {
      "cell_type": "markdown",
      "metadata": {
        "id": "xazF-r6oI2O7"
      },
      "source": [
        "TGBOT & GIGACHAT"
      ]
    },
    {
      "cell_type": "markdown",
      "metadata": {
        "id": "8FMu7ZbGIyiU"
      },
      "source": [
        "Requirements"
      ]
    },
    {
      "cell_type": "code",
      "execution_count": null,
      "metadata": {
        "id": "eX6V5j29YQh4"
      },
      "outputs": [],
      "source": [
        "!pip install -q langchain_community\n",
        "!pip install telebot\n",
        "!pip install GigaChat"
      ]
    },
    {
      "cell_type": "markdown",
      "metadata": {
        "id": "p6-ZMQKaJDRl"
      },
      "source": [
        "Необходимые импорты"
      ]
    },
    {
      "cell_type": "code",
      "execution_count": 2,
      "metadata": {
        "id": "c3kjmToyW_g_"
      },
      "outputs": [],
      "source": [
        "from langchain_community.chat_models.gigachat import GigaChat\n",
        "from langchain.chains import ConversationChain\n",
        "from langchain.memory import ConversationBufferMemory\n",
        "import types"
      ]
    },
    {
      "cell_type": "code",
      "execution_count": 3,
      "metadata": {
        "id": "SOtMy5bvXJlZ"
      },
      "outputs": [],
      "source": [
        "# Словарь для хранения ConversationBufferMemory каждого пользователя\n",
        "user_conversations = {}"
      ]
    },
    {
      "cell_type": "code",
      "execution_count": null,
      "metadata": {
        "id": "Kd_MBWy4XMhc"
      },
      "outputs": [],
      "source": [
        "import telebot\n",
        "from time import sleep\n",
        "\n",
        "bot_token = \"\"\n",
        "bot = telebot.TeleBot(bot_token)\n",
        "\n",
        "SBER_AUTH = \"\"\n",
        "sber = SBER_AUTH"
      ]
    },
    {
      "cell_type": "code",
      "execution_count": null,
      "metadata": {
        "id": "6AjOtERAYSyq"
      },
      "outputs": [],
      "source": [
        "# Инициализация GigaChat и ConversationChain\n",
        "llm = GigaChat(credentials=sber, verify_ssl_certs=False)\n",
        "conversation = ConversationChain(llm=llm,\n",
        "                                 verbose=True,\n",
        "                                 memory=ConversationBufferMemory())"
      ]
    },
    {
      "cell_type": "code",
      "execution_count": 8,
      "metadata": {
        "id": "KyN5q-0CYg8T"
      },
      "outputs": [],
      "source": [
        "from telebot import types\n",
        "\n",
        "# Словарь для хранения состояния пользователя\n",
        "user_states = {}\n",
        "\n",
        "# Функция для автоматического ответа в случае нетекстового сообщения\n",
        "@bot.message_handler(content_types=['audio', 'video', 'document', 'photo', 'sticker', 'voice', 'location', 'contact'])\n",
        "def not_text(message):\n",
        "    user_id = message.chat.id\n",
        "    bot.send_message(user_id, 'Я работаю только с текстовыми сообщениями!')\n",
        "\n",
        "# Начальный обработчик команды /start\n",
        "@bot.message_handler(commands=['start'])\n",
        "def start(message):\n",
        "    user_id = message.chat.id\n",
        "    markup = types.ReplyKeyboardMarkup(one_time_keyboard=True)\n",
        "    markup.add('Использовать свой текст', 'Сгенерировать текст')\n",
        "    bot.send_message(user_id, \"Выберите действие:\", reply_markup=markup)\n",
        "    user_states[user_id] = 'choose_action'\n",
        "\n",
        "# Обработчик выбора действия\n",
        "@bot.message_handler(func=lambda message: user_states.get(message.chat.id) == 'choose_action')\n",
        "def handle_choice(message):\n",
        "    user_id = message.chat.id\n",
        "    if message.text == 'Использовать свой текст':\n",
        "        bot.send_message(user_id, \"Введите свой текст:\")\n",
        "        user_states[user_id] = 'user_text_input'\n",
        "    elif message.text == 'Сгенерировать текст':\n",
        "        bot.send_message(user_id, \"Что бы вы хотели услышать? (начните свой запрос со слов \\\"сгенерируй...\\\")\")\n",
        "        user_states[user_id] = 'awaiting_generation_request'\n",
        "    else:\n",
        "        bot.send_message(user_id, \"Пожалуйста, выберите действие из меню.\")\n",
        "\n",
        "# Обработчик для пользовательского текста\n",
        "@bot.message_handler(func=lambda message: user_states.get(message.chat.id) == 'user_text_input')\n",
        "def handle_user_text_input(message):\n",
        "    user_id = message.chat.id\n",
        "    # Просто отображаем текст без обращения к GigaChat\n",
        "    bot.send_message(user_id, f\"Ваш текст принят!\")\n",
        "    # Сбрасываем состояние после обработки\n",
        "    user_states.pop(user_id, None)\n",
        "\n",
        "# Обработчик для генерации текста через GigaChat\n",
        "@bot.message_handler(func=lambda message: user_states.get(message.chat.id) == 'awaiting_generation_request')\n",
        "def handle_generation_request(message):\n",
        "    user_id = message.chat.id\n",
        "    if message.text.lower().startswith(\"сгенерируй\"):\n",
        "        # Отправка запроса в GigaChat\n",
        "        response = conversation.predict(input=message.text)\n",
        "        bot.send_message(user_id, response)\n",
        "        # Выводим дополнительное сообщение\n",
        "        bot.send_message(user_id, \"Отлично! Теперь у вас есть текст, скопируйте его и начните сначала через команду /start, затем выберите \\\"Использовать свой текст\\\"\")\n",
        "        # Сбрасываем состояние после обработки\n",
        "        user_states.pop(user_id, None)\n",
        "    else:\n",
        "        bot.send_message(user_id, 'Пожалуйста, начните свой запрос со слов \"сгенерируй...\".')\n",
        "\n",
        "# Если состояние не распознано, просим пользователя начать заново\n",
        "@bot.message_handler(func=lambda message: user_states.get(message.chat.id) is None)\n",
        "def ask_to_start(message):\n",
        "    bot.send_message(message.chat.id, \"Пожалуйста, используйте команду /start для начала.\")\n"
      ]
    },
    {
      "cell_type": "code",
      "execution_count": null,
      "metadata": {
        "id": "Q3nFoh2HYVTu"
      },
      "outputs": [],
      "source": [
        "# Запуск бота\n",
        "bot.polling(none_stop=True)"
      ]
    }
  ],
  "metadata": {
    "colab": {
      "provenance": []
    },
    "kernelspec": {
      "display_name": "Python 3",
      "name": "python3"
    },
    "language_info": {
      "name": "python"
    }
  },
  "nbformat": 4,
  "nbformat_minor": 0
}
